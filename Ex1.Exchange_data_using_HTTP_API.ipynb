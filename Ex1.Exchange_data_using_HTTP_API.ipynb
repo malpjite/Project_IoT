{
 "cells": [
  {
   "cell_type": "code",
   "execution_count": 12,
   "metadata": {
    "collapsed": true,
    "ExecuteTime": {
     "end_time": "2024-11-29T11:12:04.962371100Z",
     "start_time": "2024-11-29T11:12:04.956386900Z"
    }
   },
   "outputs": [],
   "source": [
    "import requests\n",
    "import random\n",
    "import time"
   ]
  },
  {
   "cell_type": "code",
   "execution_count": 2,
   "outputs": [],
   "source": [
    "# Khai báo API Key và Channel ID\n",
    "API_KEY_UPDATE = 'IRP6I98POPODH31L'  # Thay bằng API Key của bạn\n",
    "API_KEY_READ = 'G21T552MBZEHLSBF'    # Thay bằng API Key để đọc dữ liệu từ kênh\n",
    "CHANNEL_ID = '2769045'                # Thay bằng Channel ID của bạn"
   ],
   "metadata": {
    "collapsed": false,
    "ExecuteTime": {
     "end_time": "2024-11-29T11:04:29.480463800Z",
     "start_time": "2024-11-29T11:04:29.470439700Z"
    }
   }
  },
  {
   "cell_type": "markdown",
   "source": [
    "# a) Gửi dữ liệu lên ThingSpeak\n"
   ],
   "metadata": {
    "collapsed": false
   }
  },
  {
   "cell_type": "code",
   "execution_count": 3,
   "outputs": [],
   "source": [
    "# Cách 1: Gửi dữ liệu qua URL (GET request với urlencoded)\n",
    "def send_data_via_url(field1, field2):\n",
    "    url = f'https://api.thingspeak.com/update?api_key={API_KEY_UPDATE}&field1={field1}&field2={field2}'\n",
    "    response = requests.get(url)\n",
    "    return response.text"
   ],
   "metadata": {
    "collapsed": false,
    "ExecuteTime": {
     "end_time": "2024-11-29T11:05:13.928216600Z",
     "start_time": "2024-11-29T11:05:13.921233900Z"
    }
   }
  },
  {
   "cell_type": "code",
   "execution_count": 4,
   "outputs": [],
   "source": [
    "# Cách 2: Gửi dữ liệu qua body request (POST request với JSON)\n",
    "def send_data_via_json(field1, field2):\n",
    "    url = 'https://api.thingspeak.com/update'\n",
    "    headers = {'Content-Type': 'application/json'}\n",
    "    payload = {\n",
    "        'api_key': API_KEY_UPDATE,\n",
    "        'field1': field1,\n",
    "        'field2': field2\n",
    "    }\n",
    "    response = requests.post(url, headers=headers, json=payload)\n",
    "    return response.text\n"
   ],
   "metadata": {
    "collapsed": false,
    "ExecuteTime": {
     "end_time": "2024-11-29T11:05:35.935818300Z",
     "start_time": "2024-11-29T11:05:35.929834600Z"
    }
   }
  },
  {
   "cell_type": "code",
   "execution_count": 5,
   "outputs": [],
   "source": [
    "# Gửi dữ liệu sử dụng cả hai phương thức\n",
    "field1_value = 20\n",
    "field2_value = 33"
   ],
   "metadata": {
    "collapsed": false,
    "ExecuteTime": {
     "end_time": "2024-11-29T11:06:17.709920500Z",
     "start_time": "2024-11-29T11:06:17.681655300Z"
    }
   }
  },
  {
   "cell_type": "code",
   "execution_count": 6,
   "outputs": [
    {
     "name": "stdout",
     "output_type": "stream",
     "text": [
      "Data sent via URL: 1\n"
     ]
    }
   ],
   "source": [
    "# Gửi dữ liệu qua URL\n",
    "response_url = send_data_via_url(field1_value, field2_value)\n",
    "print(f'Data sent via URL: {response_url}')"
   ],
   "metadata": {
    "collapsed": false,
    "ExecuteTime": {
     "end_time": "2024-11-29T11:06:27.817568600Z",
     "start_time": "2024-11-29T11:06:27.024112Z"
    }
   }
  },
  {
   "cell_type": "code",
   "execution_count": 7,
   "outputs": [
    {
     "name": "stdout",
     "output_type": "stream",
     "text": [
      "Data sent via JSON: 2\n"
     ]
    }
   ],
   "source": [
    "# Gửi dữ liệu qua JSON\n",
    "response_json = send_data_via_json(field1_value, field2_value)\n",
    "print(f'Data sent via JSON: {response_json}')"
   ],
   "metadata": {
    "collapsed": false,
    "ExecuteTime": {
     "end_time": "2024-11-29T11:06:50.772143Z",
     "start_time": "2024-11-29T11:06:50.041884300Z"
    }
   }
  },
  {
   "cell_type": "code",
   "execution_count": 8,
   "outputs": [],
   "source": [
    "# b) Lấy dữ liệu về từ ThingSpeak API\n",
    "def get_data():\n",
    "    url = f'https://api.thingspeak.com/channels/{CHANNEL_ID}/feeds.json?api_key={API_KEY_READ}&results=2'\n",
    "    response = requests.get(url)\n",
    "    data = response.json()\n",
    "\n",
    "    # Parsing dữ liệu\n",
    "    feeds = data.get('feeds', [])\n",
    "    for feed in feeds:\n",
    "        field1 = feed.get('field1', 'No Data')\n",
    "        field2 = feed.get('field2', 'No Data')\n",
    "        print(f'Temperature: {field1}, Humidity: {field2}')\n"
   ],
   "metadata": {
    "collapsed": false,
    "ExecuteTime": {
     "end_time": "2024-11-29T11:07:18.584875800Z",
     "start_time": "2024-11-29T11:07:18.559914900Z"
    }
   }
  },
  {
   "cell_type": "code",
   "execution_count": 9,
   "outputs": [
    {
     "name": "stdout",
     "output_type": "stream",
     "text": [
      "Temperature: 20, Humidity: 33\n",
      "Temperature: 20, Humidity: 33\n"
     ]
    }
   ],
   "source": [
    "# Gọi hàm để lấy dữ liệu\n",
    "get_data()"
   ],
   "metadata": {
    "collapsed": false,
    "ExecuteTime": {
     "end_time": "2024-11-29T11:07:33.823151300Z",
     "start_time": "2024-11-29T11:07:33.122992800Z"
    }
   }
  },
  {
   "cell_type": "code",
   "execution_count": 13,
   "outputs": [],
   "source": [
    "# Hàm gửi dữ liệu ngẫu nhiên\n",
    "def send_random_data():\n",
    "    while True:\n",
    "        # Tạo số ngẫu nhiên chia hết cho 3 cho field1\n",
    "        field1_value = random.choice([i for i in range(0, 101) if i % 3 == 0])\n",
    "\n",
    "        # Tạo số ngẫu nhiên chia hết cho 5 cho field2\n",
    "        field2_value = random.choice([i for i in range(0, 101) if i % 5 == 0])\n",
    "\n",
    "        # Gửi dữ liệu qua URL\n",
    "        url = f'https://api.thingspeak.com/update?api_key={API_KEY_UPDATE}&field1={field1_value}&field2={field2_value}'\n",
    "        response = requests.get(url)\n",
    "\n",
    "        # In ra phản hồi từ Thingspeak để kiểm tra\n",
    "        print(f'Data sent: field1 = {field1_value}, field2 = {field2_value}, Response: {response.text}')\n",
    "\n",
    "        # Chờ 5 giây\n",
    "        time.sleep(15)"
   ],
   "metadata": {
    "collapsed": false,
    "ExecuteTime": {
     "end_time": "2024-11-29T11:12:10.676127700Z",
     "start_time": "2024-11-29T11:12:10.660578200Z"
    }
   }
  },
  {
   "cell_type": "code",
   "execution_count": 14,
   "outputs": [
    {
     "name": "stdout",
     "output_type": "stream",
     "text": [
      "Data sent: field1 = 75, field2 = 35, Response: 3\n",
      "Data sent: field1 = 66, field2 = 85, Response: 4\n",
      "Data sent: field1 = 78, field2 = 50, Response: 5\n",
      "Data sent: field1 = 3, field2 = 45, Response: 6\n",
      "Data sent: field1 = 21, field2 = 70, Response: 7\n",
      "Data sent: field1 = 69, field2 = 55, Response: 8\n",
      "Data sent: field1 = 81, field2 = 50, Response: 9\n",
      "Data sent: field1 = 69, field2 = 100, Response: 10\n",
      "Data sent: field1 = 66, field2 = 95, Response: 11\n",
      "Data sent: field1 = 93, field2 = 0, Response: 12\n",
      "Data sent: field1 = 24, field2 = 55, Response: 13\n",
      "Data sent: field1 = 84, field2 = 65, Response: 14\n",
      "Data sent: field1 = 90, field2 = 25, Response: 15\n",
      "Data sent: field1 = 96, field2 = 50, Response: 16\n",
      "Data sent: field1 = 57, field2 = 5, Response: 17\n"
     ]
    },
    {
     "ename": "KeyboardInterrupt",
     "evalue": "",
     "output_type": "error",
     "traceback": [
      "\u001B[1;31m---------------------------------------------------------------------------\u001B[0m",
      "\u001B[1;31mKeyboardInterrupt\u001B[0m                         Traceback (most recent call last)",
      "Cell \u001B[1;32mIn[14], line 2\u001B[0m\n\u001B[0;32m      1\u001B[0m \u001B[38;5;66;03m# Gọi hàm để bắt đầu gửi dữ liệu\u001B[39;00m\n\u001B[1;32m----> 2\u001B[0m \u001B[43msend_random_data\u001B[49m\u001B[43m(\u001B[49m\u001B[43m)\u001B[49m\n",
      "Cell \u001B[1;32mIn[13], line 18\u001B[0m, in \u001B[0;36msend_random_data\u001B[1;34m()\u001B[0m\n\u001B[0;32m     15\u001B[0m \u001B[38;5;28mprint\u001B[39m(\u001B[38;5;124mf\u001B[39m\u001B[38;5;124m'\u001B[39m\u001B[38;5;124mData sent: field1 = \u001B[39m\u001B[38;5;132;01m{\u001B[39;00mfield1_value\u001B[38;5;132;01m}\u001B[39;00m\u001B[38;5;124m, field2 = \u001B[39m\u001B[38;5;132;01m{\u001B[39;00mfield2_value\u001B[38;5;132;01m}\u001B[39;00m\u001B[38;5;124m, Response: \u001B[39m\u001B[38;5;132;01m{\u001B[39;00mresponse\u001B[38;5;241m.\u001B[39mtext\u001B[38;5;132;01m}\u001B[39;00m\u001B[38;5;124m'\u001B[39m)\n\u001B[0;32m     17\u001B[0m \u001B[38;5;66;03m# Chờ 5 giây\u001B[39;00m\n\u001B[1;32m---> 18\u001B[0m \u001B[43mtime\u001B[49m\u001B[38;5;241;43m.\u001B[39;49m\u001B[43msleep\u001B[49m\u001B[43m(\u001B[49m\u001B[38;5;241;43m15\u001B[39;49m\u001B[43m)\u001B[49m\n",
      "\u001B[1;31mKeyboardInterrupt\u001B[0m: "
     ]
    }
   ],
   "source": [
    "# Gọi hàm để bắt đầu gửi dữ liệu\n",
    "send_random_data()"
   ],
   "metadata": {
    "collapsed": false,
    "ExecuteTime": {
     "end_time": "2024-11-29T11:16:12.926893500Z",
     "start_time": "2024-11-29T11:12:16.689919500Z"
    }
   }
  }
 ],
 "metadata": {
  "kernelspec": {
   "display_name": "Python 3",
   "language": "python",
   "name": "python3"
  },
  "language_info": {
   "codemirror_mode": {
    "name": "ipython",
    "version": 2
   },
   "file_extension": ".py",
   "mimetype": "text/x-python",
   "name": "python",
   "nbconvert_exporter": "python",
   "pygments_lexer": "ipython2",
   "version": "2.7.6"
  }
 },
 "nbformat": 4,
 "nbformat_minor": 0
}
